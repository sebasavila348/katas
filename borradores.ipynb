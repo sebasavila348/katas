{
 "cells": [
  {
   "cell_type": "code",
   "execution_count": 4,
   "metadata": {},
   "outputs": [
    {
     "name": "stdout",
     "output_type": "stream",
     "text": [
      "\n",
      " *  *  * \n",
      " *  *  * \n",
      " *  *  * \n",
      " *  *  * "
     ]
    }
   ],
   "source": [
    "fil = 4\n",
    "col = 3\n",
    "\n",
    "for f in range(fil):\n",
    "    for c in range(col):\n",
    "        print(\" * \", end='')\n",
    "    \n",
    "    print(\"\")"
   ]
  },
  {
   "cell_type": "code",
   "execution_count": 9,
   "metadata": {},
   "outputs": [
    {
     "name": "stdout",
     "output_type": "stream",
     "text": [
      "000001\n",
      "000010\n",
      "000100\n",
      "001000\n",
      "010000\n",
      "100000\n"
     ]
    }
   ],
   "source": [
    "print(f\"{1:06d}\")\n",
    "print(f\"{10:06d}\")\n",
    "print(f\"{100:06d}\")\n",
    "print(f\"{1000:06d}\")\n",
    "print(f\"{10000:06d}\")\n",
    "print(f\"{100000:06d}\")"
   ]
  },
  {
   "cell_type": "code",
   "execution_count": 16,
   "metadata": {},
   "outputs": [
    {
     "name": "stdout",
     "output_type": "stream",
     "text": [
      "0004\n",
      "0030\n",
      "0200\n",
      "1000\n"
     ]
    }
   ],
   "source": [
    "cadena = \"1234\"\n",
    "c_inver = cadena[::-1]\n",
    "\n",
    "lista = list(map(int,c_inver))\n",
    "lista\n",
    "\n",
    "for i,v in enumerate(lista):\n",
    "    print(f\"{v*10**i:0{len(lista)}d}\")\n"
   ]
  },
  {
   "cell_type": "code",
   "execution_count": null,
   "metadata": {},
   "outputs": [],
   "source": []
  }
 ],
 "metadata": {
  "kernelspec": {
   "display_name": "pudem",
   "language": "python",
   "name": "python3"
  },
  "language_info": {
   "codemirror_mode": {
    "name": "ipython",
    "version": 3
   },
   "file_extension": ".py",
   "mimetype": "text/x-python",
   "name": "python",
   "nbconvert_exporter": "python",
   "pygments_lexer": "ipython3",
   "version": "3.11.9"
  }
 },
 "nbformat": 4,
 "nbformat_minor": 2
}
