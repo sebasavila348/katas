{
 "cells": [
  {
   "cell_type": "code",
   "execution_count": 4,
   "metadata": {},
   "outputs": [
    {
     "name": "stdout",
     "output_type": "stream",
     "text": [
      "\n",
      " *  *  * \n",
      " *  *  * \n",
      " *  *  * \n",
      " *  *  * "
     ]
    }
   ],
   "source": [
    "fil = 4\n",
    "col = 3\n",
    "\n",
    "for f in range(fil):\n",
    "    for c in range(col):\n",
    "        print(\" * \", end='')\n",
    "    \n",
    "    print(\"\")"
   ]
  },
  {
   "cell_type": "code",
   "execution_count": 9,
   "metadata": {},
   "outputs": [
    {
     "name": "stdout",
     "output_type": "stream",
     "text": [
      "000001\n",
      "000010\n",
      "000100\n",
      "001000\n",
      "010000\n",
      "100000\n"
     ]
    }
   ],
   "source": [
    "print(f\"{1:06d}\")\n",
    "print(f\"{10:06d}\")\n",
    "print(f\"{100:06d}\")\n",
    "print(f\"{1000:06d}\")\n",
    "print(f\"{10000:06d}\")\n",
    "print(f\"{100000:06d}\")"
   ]
  },
  {
   "cell_type": "code",
   "execution_count": 16,
   "metadata": {},
   "outputs": [
    {
     "name": "stdout",
     "output_type": "stream",
     "text": [
      "0004\n",
      "0030\n",
      "0200\n",
      "1000\n"
     ]
    }
   ],
   "source": [
    "cadena = \"1234\"\n",
    "c_inver = cadena[::-1]\n",
    "\n",
    "lista = list(map(int,c_inver))\n",
    "lista\n",
    "\n",
    "for i,v in enumerate(lista):\n",
    "    print(f\"{v*10**i:0{len(lista)}d}\")\n"
   ]
  },
  {
   "cell_type": "code",
   "execution_count": 5,
   "metadata": {},
   "outputs": [
    {
     "name": "stdout",
     "output_type": "stream",
     "text": [
      "[2, 4, 6, 8, 10]\n"
     ]
    }
   ],
   "source": [
    "numbers = []\n",
    "for i in range(1,11):\n",
    "    if i % 2 ==0:\n",
    "        numbers.append(i)\n",
    "\n",
    "print(numbers)"
   ]
  },
  {
   "cell_type": "code",
   "execution_count": 6,
   "metadata": {},
   "outputs": [
    {
     "name": "stdout",
     "output_type": "stream",
     "text": [
      "[4, 8, 12, 16, 20]\n"
     ]
    }
   ],
   "source": [
    "numbers_v2 = [x*2 for x in range(1,11) if x % 2 == 0]\n",
    "\n",
    "print(numbers_v2)"
   ]
  },
  {
   "cell_type": "code",
   "execution_count": 9,
   "metadata": {},
   "outputs": [
    {
     "name": "stdout",
     "output_type": "stream",
     "text": [
      "{1: 2, 2: 4, 3: 6, 4: 8}\n"
     ]
    }
   ],
   "source": [
    "dict = {}\n",
    "for i in range(1,5):\n",
    "    dict[i]= i*2\n",
    "\n",
    "print(dict)"
   ]
  },
  {
   "cell_type": "code",
   "execution_count": 12,
   "metadata": {},
   "outputs": [
    {
     "name": "stdout",
     "output_type": "stream",
     "text": [
      "{1: 2, 2: 4, 3: 6, 4: 8}\n"
     ]
    }
   ],
   "source": [
    "dict_v2 = { i : i*2 for i in range(1,5)}\n",
    "print(dict_v2)"
   ]
  },
  {
   "cell_type": "code",
   "execution_count": 19,
   "metadata": {},
   "outputs": [
    {
     "name": "stdout",
     "output_type": "stream",
     "text": [
      "{'col': 48, 'mex': 71, 'bol': 25, 'pe': 85}\n"
     ]
    }
   ],
   "source": [
    "import random\n",
    "\n",
    "countries = ['col','mex','bol','pe']\n",
    "population = {}\n",
    "for coun in countries:\n",
    "    population[coun] = random.randint(1,100)\n",
    "\n",
    "print(population)\n",
    "\n"
   ]
  },
  {
   "cell_type": "code",
   "execution_count": 18,
   "metadata": {},
   "outputs": [
    {
     "name": "stdout",
     "output_type": "stream",
     "text": [
      "{'col': 58, 'mex': 36, 'bol': 76, 'pe': 11}\n"
     ]
    }
   ],
   "source": [
    "countries = ['col','mex','bol','pe']\n",
    "population_v2 = {country: random.randint(1,100) for country in countries}\n",
    "print(population_v2)"
   ]
  },
  {
   "cell_type": "code",
   "execution_count": 26,
   "metadata": {},
   "outputs": [
    {
     "name": "stdout",
     "output_type": "stream",
     "text": [
      "{'Nico': 12, 'Zule': 56, 'Santi': 98}\n"
     ]
    }
   ],
   "source": [
    "names = ['Nico','Zule','Santi']\n",
    "ages = [12,56,98]\n",
    "\n",
    "\n",
    "infopel = {name: age for (name,age) in zip(names,ages)}\n",
    "\n",
    "print(infopel)"
   ]
  },
  {
   "cell_type": "code",
   "execution_count": 30,
   "metadata": {},
   "outputs": [
    {
     "name": "stdout",
     "output_type": "stream",
     "text": [
      "21\n"
     ]
    }
   ],
   "source": [
    "def increment(x):\n",
    "    return x + 1\n",
    "\n",
    "increment_v2 = lambda x : x + 1\n",
    "result= increment_v2(20)\n",
    "print(result)"
   ]
  },
  {
   "cell_type": "code",
   "execution_count": 32,
   "metadata": {},
   "outputs": [
    {
     "name": "stdout",
     "output_type": "stream",
     "text": [
      "['Chachito', 'Felipe', 'Pulga']\n"
     ]
    }
   ],
   "source": [
    "usuarios = [\n",
    "    [\"Chachito\",4],\n",
    "    [\"Felipe\",1],\n",
    "    [\"Pulga\",5]\n",
    "]\n",
    "\n",
    "usuarios_v2 = [x[0] for x in usuarios]\n",
    "print(usuarios_v2)"
   ]
  },
  {
   "cell_type": "code",
   "execution_count": null,
   "metadata": {},
   "outputs": [],
   "source": []
  }
 ],
 "metadata": {
  "kernelspec": {
   "display_name": "pudem",
   "language": "python",
   "name": "python3"
  },
  "language_info": {
   "codemirror_mode": {
    "name": "ipython",
    "version": 3
   },
   "file_extension": ".py",
   "mimetype": "text/x-python",
   "name": "python",
   "nbconvert_exporter": "python",
   "pygments_lexer": "ipython3",
   "version": "3.11.9"
  }
 },
 "nbformat": 4,
 "nbformat_minor": 2
}
