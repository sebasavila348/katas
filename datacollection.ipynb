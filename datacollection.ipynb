{
 "cells": [
  {
   "cell_type": "markdown",
   "metadata": {},
   "source": [
    "# Tema 04: Colecciones de datos (Enunciados)\n",
    "*Nota: Estos ejercicios son optativos para hacer al final de la unidad y están pensados para apoyar tu aprendizaje*."
   ]
  },
  {
   "cell_type": "markdown",
   "metadata": {},
   "source": [
    "**1) Realiza un programa que siga las siguientes instrucciones:**\n",
    "* Crea un conjunto llamado usuarios con los usuarios Marta, David, Elvira, Juan y Marcos\n",
    "* Crea un conjunto llamado administradores con los administradores Juan y Marta.\n",
    "* Borra al administrador Juan del conjunto de administradores.\n",
    "* Añade a Marcos como un nuevo administrador, pero no lo borres del conjunto de usuarios.\n",
    "* Muestra todos los usuarios por pantalla de forma dinámica, además debes indicar cada usuario es administrador o no.\n",
    "\n",
    "*Notas: Los conjuntos se pueden recorrer dinámicamente utilizando el bucle for de forma similar a una lista. También cuentan con un método llamado **.discard(elemento)** que sirve para borrar un elemento.* "
   ]
  },
  {
   "cell_type": "code",
   "execution_count": 2,
   "metadata": {},
   "outputs": [
    {
     "name": "stdout",
     "output_type": "stream",
     "text": [
      "El usuario Marcos es administrador\n",
      "El usuario Marta es administrador\n",
      "El usuario Elvira no es administrador\n",
      "El usuario David no es administrador\n",
      "El usuario Juan no es administrador\n"
     ]
    }
   ],
   "source": [
    "listu = ['Marta','David','Elvira','Juan','Marcos']\n",
    "usuarios = set()\n",
    "\n",
    "for i in listu:\n",
    "    usuarios.add(i)\n",
    "\n",
    "usuarios\n",
    "\n",
    "admin = {'Juan','Marta'}\n",
    "admin.discard('Juan')\n",
    "admin.add('Marcos')\n",
    "\n",
    "for i in usuarios:\n",
    "    if i in admin:\n",
    "        print( \"El usuario\", i ,\"es administrador\")\n",
    "    \n",
    "    else:\n",
    "         print( \"El usuario\", i ,\"no es administrador\")"
   ]
  },
  {
   "cell_type": "markdown",
   "metadata": {},
   "source": [
    "**2) Durante el desarrollo de un pequeño videojuego se te encarga configurar y balancear cada clase de personaje jugable. Partiendo que la estadística base es 2, debes cumplir las siguientes condiciones:**\n",
    "* El caballero tiene el doble de vida y defensa que un guerrero.\n",
    "* El guerrero tiene el doble de ataque y alcance que un caballero.\n",
    "* El arquero tiene la misma vida y ataque que un guerrero, pero la mitad de su defensa y el doble de su alcance.\n",
    "* Muestra como quedan las propiedades de los tres personajes."
   ]
  },
  {
   "cell_type": "code",
   "execution_count": 4,
   "metadata": {},
   "outputs": [
    {
     "name": "stdout",
     "output_type": "stream",
     "text": [
      "{'vida': 4, 'ataque': 2, 'defensa': 4, 'alcance': 2}\n",
      "{'vida': 2, 'ataque': 4, 'defensa': 2, 'alcance': 4}\n",
      "{'vida': 2, 'ataque': 4, 'defensa': 1.0, 'alcance': 8}\n"
     ]
    }
   ],
   "source": [
    "caballero = { 'vida':2, 'ataque':2, 'defensa': 2, 'alcance':2 }\n",
    "guerrero  = { 'vida':2, 'ataque':2, 'defensa': 2, 'alcance':2 }\n",
    "arquero   = { 'vida':2, 'ataque':2, 'defensa': 2, 'alcance':2 }\n",
    "\n",
    "caballero['vida'] = guerrero['vida'] * 2\n",
    "caballero['defensa'] = guerrero['defensa'] * 2\n",
    "\n",
    "guerrero['ataque'] = caballero['ataque'] * 2\n",
    "guerrero['alcance'] = caballero['alcance'] * 2\n",
    "\n",
    "arquero['vida'] = guerrero['vida']\n",
    "arquero['ataque'] = guerrero['ataque']\n",
    "arquero['defensa'] = guerrero['defensa'] / 2\n",
    "arquero['alcance'] = guerrero['alcance'] * 2\n",
    "\n",
    "print(caballero)\n",
    "print(guerrero)\n",
    "print(arquero)\n"
   ]
  },
  {
   "cell_type": "markdown",
   "metadata": {},
   "source": [
    "**3) Durante la planificación de un proyecto se han acordado una lista de tareas. Para cada una de estas tareas se ha asignado un orden de prioridad (cuanto menor es el número de orden, más prioridad).**\n",
    "\n",
    "**¿Eres capaz de crear una estructura del tipo cola con todas las tareas ordenadas pero sin los números de orden?**\n",
    "\n",
    "Pista: Para ordenar automáticamente una lista es posible utilizar el método .sort()."
   ]
  },
  {
   "cell_type": "code",
   "execution_count": 23,
   "metadata": {},
   "outputs": [
    {
     "name": "stdout",
     "output_type": "stream",
     "text": [
      "==Tareas desordenadas==\n",
      "6 Distribución\n",
      "2 Diseño\n",
      "1 Concepción\n",
      "7 Mantenimiento\n",
      "4 Producción\n",
      "3 Planificación\n",
      "5 Pruebas\n",
      "==Tareas ordenadas==\n",
      "1 Concepción\n",
      "2 Diseño\n",
      "3 Planificación\n",
      "4 Producción\n",
      "5 Pruebas\n",
      "6 Distribución\n",
      "7 Mantenimiento\n",
      "==Tareas ordenadas en forma de cola==\n",
      "Concepción\n",
      "Diseño\n",
      "Planificación\n",
      "Producción\n",
      "Pruebas\n",
      "Distribución\n",
      "Mantenimiento\n"
     ]
    }
   ],
   "source": [
    "tareas = [ \n",
    "    [6, 'Distribución'],\n",
    "    [2, 'Diseño'],\n",
    "    [1, 'Concepción'],\n",
    "    [7, 'Mantenimiento'],\n",
    "    [4, 'Producción'],\n",
    "    [3, 'Planificación'],\n",
    "    [5, 'Pruebas']\n",
    "]\n",
    "\n",
    "\n",
    "\n",
    "print(\"==Tareas desordenadas==\")\n",
    "for tarea in tareas:\n",
    "    print(tarea[0], tarea[1])\n",
    "\n",
    "tareas.sort()\n",
    "\n",
    "print(\"==Tareas ordenadas==\")\n",
    "for tarea in tareas:\n",
    "    print(tarea[0], tarea[1])\n",
    "\n",
    "\n",
    "# Completa el ejercicio aquí\n",
    "from collections import deque\n",
    "\n",
    "cola = deque()\n",
    "\n",
    "for c,v in enumerate(tareas):\n",
    "     cola.append(tareas[c][1])\n",
    "\n",
    "print(\"==Tareas ordenadas en forma de cola==\")\n",
    "for i in cola:\n",
    "    print(i)"
   ]
  },
  {
   "cell_type": "code",
   "execution_count": null,
   "metadata": {},
   "outputs": [],
   "source": []
  }
 ],
 "metadata": {
  "kernelspec": {
   "display_name": "pudem",
   "language": "python",
   "name": "python3"
  },
  "language_info": {
   "codemirror_mode": {
    "name": "ipython",
    "version": 3
   },
   "file_extension": ".py",
   "mimetype": "text/x-python",
   "name": "python",
   "nbconvert_exporter": "python",
   "pygments_lexer": "ipython3",
   "version": "3.11.9"
  }
 },
 "nbformat": 4,
 "nbformat_minor": 2
}
