{
 "cells": [
  {
   "cell_type": "markdown",
   "metadata": {},
   "source": [
    "**1) Realiza un programa que lea dos números por teclado y permita elegir entre 3 opciones en un menú:** \n",
    "* Mostrar una suma de los dos números\n",
    "* Mostrar una resta de los dos números (el primero menos el segundo)\n",
    "* Mostrar una multiplicación de los dos números\n",
    "* En caso de no introducir una opción válida, el programa informará de que no es correcta."
   ]
  },
  {
   "cell_type": "code",
   "execution_count": 6,
   "metadata": {},
   "outputs": [
    {
     "name": "stdout",
     "output_type": "stream",
     "text": [
      " Hola!!, bienvenido a la calculadora\n",
      "      Esta posee las siguientes opciones:\n",
      "\n",
      "      A) Suma de dos número\n",
      "      B) Resta de dos números\n",
      "      C) Multiplicación de dos números\n",
      "  \n"
     ]
    },
    {
     "name": "stdout",
     "output_type": "stream",
     "text": [
      "la multiplicación de ambos dígitos es 1530.0\n"
     ]
    }
   ],
   "source": [
    "print(\"\"\" Hola!!, bienvenido a la calculadora\n",
    "      Esta posee las siguientes opciones:\n",
    "\n",
    "      A) Suma de dos número\n",
    "      B) Resta de dos números\n",
    "      C) Multiplicación de dos números\n",
    "  \"\"\")\n",
    "\n",
    "opcion = input(\"\"\"Escoga la opción que desee:\n",
    "              \n",
    "              digite \"A\" para la opcion A\n",
    "              digite \"B\" para la opcion B\n",
    "              digite \"C\" para la opcion C           \n",
    "              \"\"\")\n",
    "\n",
    "if opcion == \"A\":\n",
    "    num1 = float(input(\"ingrese el primer dígito: \"))\n",
    "    num2 = float(input(\"ingrese el segundo dígito: \"))\n",
    "    print(f\"la suma de ambos dígitos es {num1+num2}\")\n",
    "\n",
    "elif opcion == \"B\":\n",
    "    num1 = float(input(\"ingrese el primer dígito: \"))\n",
    "    num2 = float(input(\"ingrese el segundo dígito: \"))\n",
    "    print(f\"la resta de ambos dígitos es {num1-num2}\")\n",
    "\n",
    "elif opcion == \"C\":\n",
    "    num1 = float(input(\"ingrese el primer dígito: \"))\n",
    "    num2 = float(input(\"ingrese el segundo dígito: \"))\n",
    "    print(f\"la multiplicación de ambos dígitos es {num1*num2}\")\n",
    "\n",
    "else :\n",
    "    print(\"Opción invalida\")"
   ]
  },
  {
   "cell_type": "markdown",
   "metadata": {},
   "source": [
    "**2) Realiza un programa que lea un número impar por teclado. Si el usuario no introduce un número impar, debe repetise el proceso hasta que lo introduzca correctamente.**"
   ]
  },
  {
   "cell_type": "code",
   "execution_count": 1,
   "metadata": {},
   "outputs": [
    {
     "name": "stdout",
     "output_type": "stream",
     "text": [
      "!Error Error, 8.0 es un número par: porfavor ingrese un número impar\n",
      "!Error Error, 8.0 es un número par: porfavor ingrese un número impar\n",
      "!Error Error, 8.0 es un número par: porfavor ingrese un número impar\n",
      "Felicidades, el número 99.0 es un número impar\n"
     ]
    }
   ],
   "source": [
    "while True:\n",
    "\n",
    "    num = float(input(\"Ingrese un número inmpar: \"))\n",
    "    \n",
    "    if num % 2 != 0:\n",
    "        print(f\"Felicidades, el número {num} es un número impar\")\n",
    "\n",
    "        break\n",
    "\n",
    "    else:\n",
    "        print(f\"!Error Error, {num} es un número par: porfavor ingrese un número impar\")\n"
   ]
  },
  {
   "cell_type": "code",
   "execution_count": null,
   "metadata": {},
   "outputs": [],
   "source": []
  }
 ],
 "metadata": {
  "kernelspec": {
   "display_name": "Python 3",
   "language": "python",
   "name": "python3"
  },
  "language_info": {
   "codemirror_mode": {
    "name": "ipython",
    "version": 3
   },
   "file_extension": ".py",
   "mimetype": "text/x-python",
   "name": "python",
   "nbconvert_exporter": "python",
   "pygments_lexer": "ipython3",
   "version": "3.11.9"
  }
 },
 "nbformat": 4,
 "nbformat_minor": 2
}
