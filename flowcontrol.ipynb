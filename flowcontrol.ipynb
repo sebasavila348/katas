{
 "cells": [
  {
   "cell_type": "markdown",
   "metadata": {},
   "source": [
    "# Tema 03: Control de flujo (enunciados)\n",
    "*Nota: Estos ejercicios son optativos para hacer al final de la unidad y están pensados para apoyar tu aprendizaje*."
   ]
  },
  {
   "cell_type": "markdown",
   "metadata": {},
   "source": [
    "**1) Realiza un programa que lea dos números por teclado y permita elegir entre 3 opciones en un menú:** \n",
    "* Mostrar una suma de los dos números\n",
    "* Mostrar una resta de los dos números (el primero menos el segundo)\n",
    "* Mostrar una multiplicación de los dos números\n",
    "* En caso de no introducir una opción válida, el programa informará de que no es correcta."
   ]
  },
  {
   "cell_type": "code",
   "execution_count": 6,
   "metadata": {},
   "outputs": [
    {
     "name": "stdout",
     "output_type": "stream",
     "text": [
      " Hola!!, bienvenido a la calculadora\n",
      "      Esta posee las siguientes opciones:\n",
      "\n",
      "      A) Suma de dos número\n",
      "      B) Resta de dos números\n",
      "      C) Multiplicación de dos números\n",
      "  \n"
     ]
    },
    {
     "name": "stdout",
     "output_type": "stream",
     "text": [
      "la multiplicación de ambos dígitos es 1530.0\n"
     ]
    }
   ],
   "source": [
    "print(\"\"\" Hola!!, bienvenido a la calculadora\n",
    "      Esta posee las siguientes opciones:\n",
    "\n",
    "      A) Suma de dos número\n",
    "      B) Resta de dos números\n",
    "      C) Multiplicación de dos números\n",
    "  \"\"\")\n",
    "\n",
    "opcion = input(\"\"\"Escoga la opción que desee:\n",
    "              \n",
    "              digite \"A\" para la opcion A\n",
    "              digite \"B\" para la opcion B\n",
    "              digite \"C\" para la opcion C           \n",
    "              \"\"\")\n",
    "\n",
    "if opcion == \"A\":\n",
    "    num1 = float(input(\"ingrese el primer dígito: \"))\n",
    "    num2 = float(input(\"ingrese el segundo dígito: \"))\n",
    "    print(f\"la suma de ambos dígitos es {num1+num2}\")\n",
    "\n",
    "elif opcion == \"B\":\n",
    "    num1 = float(input(\"ingrese el primer dígito: \"))\n",
    "    num2 = float(input(\"ingrese el segundo dígito: \"))\n",
    "    print(f\"la resta de ambos dígitos es {num1-num2}\")\n",
    "\n",
    "elif opcion == \"C\":\n",
    "    num1 = float(input(\"ingrese el primer dígito: \"))\n",
    "    num2 = float(input(\"ingrese el segundo dígito: \"))\n",
    "    print(f\"la multiplicación de ambos dígitos es {num1*num2}\")\n",
    "\n",
    "else :\n",
    "    print(\"Opción invalida\")"
   ]
  },
  {
   "cell_type": "markdown",
   "metadata": {},
   "source": [
    "**2) Realiza un programa que lea un número impar por teclado. Si el usuario no introduce un número impar, debe repetise el proceso hasta que lo introduzca correctamente.**"
   ]
  },
  {
   "cell_type": "code",
   "execution_count": 1,
   "metadata": {},
   "outputs": [
    {
     "name": "stdout",
     "output_type": "stream",
     "text": [
      "!Error Error, 8.0 es un número par: porfavor ingrese un número impar\n",
      "!Error Error, 8.0 es un número par: porfavor ingrese un número impar\n",
      "!Error Error, 8.0 es un número par: porfavor ingrese un número impar\n",
      "Felicidades, el número 99.0 es un número impar\n"
     ]
    }
   ],
   "source": [
    "while True:\n",
    "\n",
    "    num = float(input(\"Ingrese un número inmpar: \"))\n",
    "    \n",
    "    if num % 2 != 0:\n",
    "        print(f\"Felicidades, el número {num} es un número impar\")\n",
    "\n",
    "        break\n",
    "\n",
    "    else:\n",
    "        print(f\"!Error Error, {num} es un número par: porfavor ingrese un número impar\")\n"
   ]
  },
  {
   "cell_type": "markdown",
   "metadata": {},
   "source": [
    "**3) Realiza un programa que sume todos los números enteros pares desde el 0 hasta el 100:**\n",
    "\n",
    "*Sugerencia: Puedes utilizar la funciones sum() y range() para hacerlo más fácil. El tercer parámetro en la función range(inicio, fin, salto) indica un salto de números, pruébalo.*"
   ]
  },
  {
   "cell_type": "code",
   "execution_count": 2,
   "metadata": {},
   "outputs": [
    {
     "data": {
      "text/plain": [
       "2550"
      ]
     },
     "execution_count": 2,
     "metadata": {},
     "output_type": "execute_result"
    }
   ],
   "source": [
    "epa=sum((range(0,101,2)))\n",
    "epa"
   ]
  },
  {
   "cell_type": "markdown",
   "metadata": {},
   "source": [
    "4) Realiza un programa que pida al usuario cuantos números quiere introducir. Luego lee todos los números y realiza una media aritmética:"
   ]
  },
  {
   "cell_type": "code",
   "execution_count": 5,
   "metadata": {},
   "outputs": [
    {
     "name": "stdout",
     "output_type": "stream",
     "text": [
      "la media aritmética de los números ingresados es: 2.5\n"
     ]
    }
   ],
   "source": [
    "num = int(input(\"Ingresa la cantidad de números requerida: \"))\n",
    "suma = 0\n",
    "\n",
    "for i in range(0,num):\n",
    "\n",
    "    numero_ = float(input(f\"Introduzca el {i} número: \"))\n",
    "    suma = suma + numero_ \n",
    "\n",
    "\n",
    "print(f\"la media aritmética de los números ingresados es: {suma/num}\")\n"
   ]
  },
  {
   "cell_type": "markdown",
   "metadata": {},
   "source": [
    "**5) Realiza un programa que pida al usuario un número entero del 0 al 9, y que mientras el número no sea correcto se repita el proceso. Luego debe comprobar si el número se encuentra en la lista de números y notificarlo:**\n",
    "\n",
    "*Consejo: La sintaxis \"valor in lista\" permite comprobar fácilmente si un valor se encuentra en una lista (devuelve True o False)*"
   ]
  },
  {
   "cell_type": "code",
   "execution_count": 6,
   "metadata": {},
   "outputs": [
    {
     "name": "stdout",
     "output_type": "stream",
     "text": [
      "El número 3 se encuentra en la lista [1, 3, 6, 9]\n"
     ]
    }
   ],
   "source": [
    "numeros = [1, 3, 6, 9]\n",
    "while True:\n",
    "    numero = int(input(\"Escribe un número del 0 al 9: \"))\n",
    "    if numero >= 0 and numero <= 9:\n",
    "        break\n",
    "if numero in numeros:\n",
    "    print(\"El número\",numero,\"se encuentra en la lista\",numeros)\n",
    "else:\n",
    "    print(\"El número\",numero,\"no se encuentra en la lista\",numeros)"
   ]
  },
  {
   "cell_type": "markdown",
   "metadata": {},
   "source": [
    "**6) Utilizando la función range() y la conversión a listas genera las siguientes listas dinámicamente:**\n",
    "* Todos los números del 0 al 10 [0, 1, 2, ..., 10]\n",
    "* Todos los números del -10 al 0 [-10, -9, -8, ..., 0]\n",
    "* Todos los números pares del 0 al 20 [0, 2, 4, ..., 20]\n",
    "* Todos los números impares entre -20 y 0 [-19, -17, -15, ..., -1]\n",
    "* Todos los números múltiples de 5 del 0 al 50 [0, 5, 10, ..., 50]\n",
    "\n",
    "*Pista: Utiliza el tercer parámetro de la función range(inicio, fin, salto).*"
   ]
  },
  {
   "cell_type": "code",
   "execution_count": 7,
   "metadata": {},
   "outputs": [
    {
     "name": "stdout",
     "output_type": "stream",
     "text": [
      "[0, 1, 2, 3, 4, 5, 6, 7, 8, 9, 10]\n",
      "[-10, -9, -8, -7, -6, -5, -4, -3, -2, -1, 0]\n",
      "[0, 2, 4, 6, 8, 10, 12, 14, 16, 18, 20]\n",
      "[-19, -17, -15, -13, -11, -9, -7, -5, -3, -1]\n",
      "[0, 5, 10, 15, 20, 25, 30, 35, 40, 45, 50]\n"
     ]
    }
   ],
   "source": [
    "# Completa el ejercicio aquí\n",
    "print( list( range( 0, 11 ) ) )\n",
    "print( list( range( -10, 1 ) ) )\n",
    "print( list( range( 0, 21, 2 ) ) )\n",
    "print( list( range( -19, 0, 2 ) ) )\n",
    "print( list( range( 0, 51, 5 ) ) )"
   ]
  },
  {
   "cell_type": "markdown",
   "metadata": {},
   "source": [
    "**7) Dadas dos listas, debes generar una tercera con todos los elementos que se repitan en ellas, pero no debe repetise ningún elemento en la nueva lista:**"
   ]
  },
  {
   "cell_type": "code",
   "execution_count": 12,
   "metadata": {},
   "outputs": [
    {
     "name": "stdout",
     "output_type": "stream",
     "text": [
      "['h', 'o', 'l', 'a', ' ', 'u', 'n']\n"
     ]
    }
   ],
   "source": [
    "# Completa el ejercicio aquí\n",
    "lista_1 = [\"h\",'o','l','a',' ', 'm','u','n','d','o']\n",
    "lista_2 = [\"h\",'o','l','a',' ', 'l','u','n','a']\n",
    "lista_3 = []\n",
    "\n",
    "for i in lista_1:\n",
    "    if i in lista_2 and i not in lista_3:\n",
    "        lista_3.append(i)\n",
    "\n",
    "print(lista_3)\n",
    "\n"
   ]
  },
  {
   "cell_type": "code",
   "execution_count": null,
   "metadata": {},
   "outputs": [],
   "source": []
  }
 ],
 "metadata": {
  "kernelspec": {
   "display_name": "Python 3",
   "language": "python",
   "name": "python3"
  },
  "language_info": {
   "codemirror_mode": {
    "name": "ipython",
    "version": 3
   },
   "file_extension": ".py",
   "mimetype": "text/x-python",
   "name": "python",
   "nbconvert_exporter": "python",
   "pygments_lexer": "ipython3",
   "version": "3.11.9"
  }
 },
 "nbformat": 4,
 "nbformat_minor": 2
}
