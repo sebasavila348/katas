{
 "cells": [
  {
   "cell_type": "code",
   "execution_count": 2,
   "metadata": {},
   "outputs": [
    {
     "name": "stdout",
     "output_type": "stream",
     "text": [
      "[2, 4, 6, 8]\n",
      "<map object at 0x7fee3c308d90>\n"
     ]
    }
   ],
   "source": [
    "n = [1,2,3,4]\n",
    "\n",
    "nv2 = []\n",
    "\n",
    "for i in n:\n",
    "    nv2.append(i*2)\n",
    "\n",
    "print(nv2)\n",
    "\n",
    "nv3 = map(lambda i: i*2 , n)\n",
    "print(nv3)\n"
   ]
  },
  {
   "cell_type": "code",
   "execution_count": 3,
   "metadata": {},
   "outputs": [
    {
     "name": "stdout",
     "output_type": "stream",
     "text": [
      "[2, 4, 6, 8]\n"
     ]
    }
   ],
   "source": [
    "\n",
    "v3 = map(lambda i: i*2 , n)\n",
    "print(list(nv3))"
   ]
  },
  {
   "cell_type": "code",
   "execution_count": 4,
   "metadata": {},
   "outputs": [
    {
     "name": "stdout",
     "output_type": "stream",
     "text": [
      "[6, 8, 10]\n"
     ]
    }
   ],
   "source": [
    "n1 = [1,2,3,4]\n",
    "n2 = [5,6,7]\n",
    "\n",
    "result = list(map(lambda x, y: x + y, n1, n2))\n",
    "print(result)"
   ]
  },
  {
   "cell_type": "code",
   "execution_count": 6,
   "metadata": {},
   "outputs": [
    {
     "name": "stdout",
     "output_type": "stream",
     "text": [
      "[{'product': 'camisa', 'price': 100, 'taxes': 19.0}, {'product': 'pantalones', 'price': 300, 'taxes': 57.0}, {'product': 'pantalones 2', 'price': 200, 'taxes': 38.0}]\n"
     ]
    }
   ],
   "source": [
    "items = [\n",
    "  {\n",
    "      'product': 'camisa',\n",
    "    'price': 100,\n",
    "  }, \n",
    "  {\n",
    "    'product': 'pantalones',\n",
    "    'price': 300\n",
    "  },\n",
    "  {\n",
    "    'product': 'pantalones 2',\n",
    "    'price': 200\n",
    "  }\n",
    "]\n",
    "\n",
    "prices = list(map(lambda item: item['price'],items))\n",
    "\n",
    "def ad_tax(item):\n",
    "    item['taxes'] = item['price']*.19\n",
    "    return item\n",
    "\n",
    "it2 = list(map(lambda i : ad_tax(i),items))\n",
    "print(it2)"
   ]
  },
  {
   "cell_type": "code",
   "execution_count": 7,
   "metadata": {},
   "outputs": [
    {
     "name": "stdout",
     "output_type": "stream",
     "text": [
      "[2, 4, 6, 8]\n"
     ]
    }
   ],
   "source": [
    "def multiply_numbers(numbers):\n",
    "    # Escribe tu solución 👇\n",
    "    r = list(map(lambda i : i*2, numbers))\n",
    "    return r\n",
    "\n",
    "numbers = [1, 2, 3, 4]\n",
    "response = multiply_numbers(numbers)\n",
    "print(response)"
   ]
  },
  {
   "cell_type": "code",
   "execution_count": 9,
   "metadata": {},
   "outputs": [
    {
     "name": "stdout",
     "output_type": "stream",
     "text": [
      "[2, 4]\n"
     ]
    }
   ],
   "source": [
    "numbers = [1,2,3,4,5]\n",
    "\n",
    "new_n= list(filter(lambda x : x % 2 == 0, numbers))\n",
    "\n",
    "print(new_n)"
   ]
  },
  {
   "cell_type": "code",
   "execution_count": 14,
   "metadata": {},
   "outputs": [
    {
     "name": "stdout",
     "output_type": "stream",
     "text": [
      "[{'home_team': 'Bolivia', 'away_team': 'Uruguay', 'home_team_score': 3, 'away_team_score': 1, 'home_team_result': 'Win'}, {'home_team': 'Brazil', 'away_team': 'Mexico', 'home_team_score': 1, 'away_team_score': 1, 'home_team_result': 'Draw'}, {'home_team': 'Ecuador', 'away_team': 'Venezuela', 'home_team_score': 5, 'away_team_score': 0, 'home_team_result': 'Win'}]\n",
      "[{'home_team': 'Bolivia', 'away_team': 'Uruguay', 'home_team_score': 3, 'away_team_score': 1, 'home_team_result': 'Win'}, {'home_team': 'Ecuador', 'away_team': 'Venezuela', 'home_team_score': 5, 'away_team_score': 0, 'home_team_result': 'Win'}]\n",
      "2\n"
     ]
    }
   ],
   "source": [
    "matches = [\n",
    "  {\n",
    "    'home_team': 'Bolivia',\n",
    "    'away_team': 'Uruguay',\n",
    "    'home_team_score': 3,\n",
    "    'away_team_score': 1,\n",
    "    'home_team_result': 'Win'\n",
    "  },\n",
    "  {\n",
    "    'home_team': 'Brazil',\n",
    "    'away_team': 'Mexico',\n",
    "    'home_team_score': 1,\n",
    "    'away_team_score': 1,\n",
    "    'home_team_result': 'Draw'\n",
    "  },\n",
    "  {\n",
    "    'home_team': 'Ecuador',\n",
    "    'away_team': 'Venezuela',\n",
    "    'home_team_score': 5,\n",
    "    'away_team_score': 0,\n",
    "    'home_team_result': 'Win'\n",
    "  },\n",
    "]\n",
    "\n",
    "print(matches)\n",
    "print(len(new_n))\n",
    "\n",
    "new_n =  list(filter(lambda x : x['home_team_result'] == 'Win',matches))\n",
    "\n",
    "print(new_n)\n",
    "print(len(new_n))\n"
   ]
  },
  {
   "cell_type": "code",
   "execution_count": 16,
   "metadata": {},
   "outputs": [
    {
     "name": "stdout",
     "output_type": "stream",
     "text": [
      "['amor', 'piedra']\n"
     ]
    }
   ],
   "source": [
    "def filter_by_length(words):\n",
    "   # Escribe tu solución 👇\n",
    "   r = list(filter(lambda x : len(x) >= 4,words))\n",
    "   return r\n",
    "\n",
    "words = ['amor', 'sol', 'piedra', 'día']\n",
    "response = filter_by_length(words)\n",
    "print(response)"
   ]
  },
  {
   "cell_type": "code",
   "execution_count": 18,
   "metadata": {},
   "outputs": [
    {
     "name": "stdout",
     "output_type": "stream",
     "text": [
      "10\n"
     ]
    }
   ],
   "source": [
    "import functools\n",
    "\n",
    "numbers = [1,2,3,4]\n",
    "\n",
    "result = functools.reduce(lambda counter, item: counter + item, numbers)\n",
    "print(result)"
   ]
  },
  {
   "cell_type": "markdown",
   "metadata": {},
   "source": [
    "**Ejercicio 1: Filtrar Números Pares\n",
    "\n",
    "Dada una lista de números, usa una función lambda y filter para obtener una lista de números pares."
   ]
  },
  {
   "cell_type": "code",
   "execution_count": 19,
   "metadata": {},
   "outputs": [
    {
     "name": "stdout",
     "output_type": "stream",
     "text": [
      "[2, 4, 6, 8, 10]\n"
     ]
    }
   ],
   "source": [
    "numeros = [1, 2, 3, 4, 5, 6, 7, 8, 9, 10]\n",
    "\n",
    "n2 = list(filter(lambda x : x % 2 == 0, numeros))\n",
    "\n",
    "print(n2)"
   ]
  },
  {
   "cell_type": "markdown",
   "metadata": {},
   "source": [
    "Ejercicio 1: Ordenar por Múltiples Criterios\n",
    "\n",
    "\n",
    "Dada una lista de diccionarios que representan productos con nombre, precio y calificación, usa una función lambda para ordenar la lista primero por precio (ascendente) y luego por calificación (descendente)."
   ]
  },
  {
   "cell_type": "code",
   "execution_count": 24,
   "metadata": {},
   "outputs": [
    {
     "name": "stdout",
     "output_type": "stream",
     "text": [
      "[{'nombre': 'producto1', 'precio': 10, 'calificación': 4.5}, {'nombre': 'producto3', 'precio': 10, 'calificación': 4.8}, {'nombre': 'producto2', 'precio': 20, 'calificación': 4.7}, {'nombre': 'producto4', 'precio': 30, 'calificación': 4.2}]\n",
      "[{'nombre': 'producto3', 'precio': 10, 'calificación': 4.8}, {'nombre': 'producto2', 'precio': 20, 'calificación': 4.7}, {'nombre': 'producto1', 'precio': 10, 'calificación': 4.5}, {'nombre': 'producto4', 'precio': 30, 'calificación': 4.2}]\n"
     ]
    }
   ],
   "source": [
    "productos = [\n",
    "    {'nombre': 'producto1', 'precio': 10, 'calificación': 4.5},\n",
    "    {'nombre': 'producto2', 'precio': 20, 'calificación': 4.7},\n",
    "    {'nombre': 'producto3', 'precio': 10, 'calificación': 4.8},\n",
    "    {'nombre': 'producto4', 'precio': 30, 'calificación': 4.2},\n",
    "]\n",
    "\n",
    "productos.sort(key=lambda x: x['precio'], reverse=False)\n",
    "print(productos)\n",
    "\n",
    "productos.sort(key=lambda x: x['calificación'], reverse=True)\n",
    "print(productos)\n",
    "\n",
    "# El .sort modifica por referencia\n",
    "# Acontinuación se muestra en caso de que no se quiera modificar la lista original\n"
   ]
  },
  {
   "cell_type": "markdown",
   "metadata": {},
   "source": [
    "La función sorted() en Python se utiliza para ordenar cualquier iterable (como listas, tuplas, cadenas, etc.) y retorna una nueva lista con los elementos ordenados. A diferencia del método sort() de las listas, sorted() no modifica el iterable original.\n",
    "\n",
    "sorted(iterable, key=None, reverse=False)"
   ]
  },
  {
   "cell_type": "code",
   "execution_count": 25,
   "metadata": {},
   "outputs": [
    {
     "name": "stdout",
     "output_type": "stream",
     "text": [
      "[{'nombre': 'producto3', 'precio': 10, 'calificación': 4.8}, {'nombre': 'producto1', 'precio': 10, 'calificación': 4.5}, {'nombre': 'producto2', 'precio': 20, 'calificación': 4.7}, {'nombre': 'producto4', 'precio': 30, 'calificación': 4.2}]\n"
     ]
    }
   ],
   "source": [
    "productos = [\n",
    "    {'nombre': 'producto1', 'precio': 10, 'calificación': 4.5},\n",
    "    {'nombre': 'producto2', 'precio': 20, 'calificación': 4.7},\n",
    "    {'nombre': 'producto3', 'precio': 10, 'calificación': 4.8},\n",
    "    {'nombre': 'producto4', 'precio': 30, 'calificación': 4.2},\n",
    "]\n",
    "\n",
    "productos_ordenados = sorted(productos, key=lambda x: (x['precio'], -x['calificación']))\n",
    "print(productos_ordenados)"
   ]
  },
  {
   "cell_type": "markdown",
   "metadata": {},
   "source": [
    "Ejercicio 2: Filtrar y Transformar Simultáneamente\n",
    "Dada una lista de números, usa una función lambda y filter para obtener una lista de números pares y, al mismo tiempo, usa map para elevar esos números al cuadrado."
   ]
  },
  {
   "cell_type": "code",
   "execution_count": 28,
   "metadata": {},
   "outputs": [
    {
     "name": "stdout",
     "output_type": "stream",
     "text": [
      "[4, 16, 36, 64, 100]\n"
     ]
    }
   ],
   "source": [
    "numeros = [1, 2, 3, 4, 5, 6, 7, 8, 9, 10]\n",
    "\n",
    "nue = list(map(lambda x : x**2, filter(lambda x : x % 2 == 0, numeros)))\n",
    "\n",
    "print(nue)"
   ]
  },
  {
   "cell_type": "markdown",
   "metadata": {},
   "source": [
    "Ejercicio 3: Composición de Funciones\n",
    "\n",
    "Define dos funciones lambda, una para sumar 3 a un número y otra para multiplicar un número por 2. Luego, crea una nueva función lambda que componga ambas funciones (primero sumar 3 y luego multiplicar por 2) y aplícala a una lista de números."
   ]
  },
  {
   "cell_type": "code",
   "execution_count": 31,
   "metadata": {},
   "outputs": [
    {
     "name": "stdout",
     "output_type": "stream",
     "text": [
      "[8, 10, 12, 14, 16, 18, 20, 22, 24, 26]\n"
     ]
    }
   ],
   "source": [
    "numeros = [1, 2, 3, 4, 5, 6, 7, 8, 9, 10]\n",
    "\n",
    "suma = lambda x: x + 3\n",
    "mul = lambda x: x * 2\n",
    "\n",
    "super_f = lambda x: mul(suma(x))\n",
    "\n",
    "nue = list(map(super_f,numeros))\n",
    "print(nue)\n",
    "\n"
   ]
  },
  {
   "cell_type": "markdown",
   "metadata": {},
   "source": [
    "Ejercicio 4: Reducir una Lista de Diccionarios\n",
    "\n",
    "Dada una lista de diccionarios que representan ventas con producto y cantidad, usa reduce y una función lambda para obtener el total de productos vendidos."
   ]
  },
  {
   "cell_type": "code",
   "execution_count": 35,
   "metadata": {},
   "outputs": [
    {
     "name": "stdout",
     "output_type": "stream",
     "text": [
      "45\n"
     ]
    }
   ],
   "source": [
    "from functools import reduce\n",
    "\n",
    "ventas = [\n",
    "    {'producto': 'producto1', 'cantidad': 10},\n",
    "    {'producto': 'producto2', 'cantidad': 20},\n",
    "    {'producto': 'producto3', 'cantidad': 15},\n",
    "]\n",
    "\n",
    "result = reduce(lambda a, b: a + b['cantidad'], ventas, 0)\n",
    "\n",
    "print(result)"
   ]
  },
  {
   "cell_type": "markdown",
   "metadata": {},
   "source": [
    "Ejercicio 5: Filtrar y Ordenar Palabras\n",
    "\n",
    "Dada una lista de palabras, usa una función lambda para filtrar las palabras que tienen más de 4 letras y luego ordenarlas por orden alfabético inverso."
   ]
  },
  {
   "cell_type": "code",
   "execution_count": 40,
   "metadata": {},
   "outputs": [
    {
     "name": "stdout",
     "output_type": "stream",
     "text": [
      "['estrella', 'tierra']\n"
     ]
    }
   ],
   "source": [
    "palabras = ['sol', 'luna', 'estrella', 'mar', 'tierra']\n",
    "\n",
    "nue = sorted(list((filter(lambda x : len(x)> 4, palabras))))\n",
    "\n",
    "print(nue)\n"
   ]
  },
  {
   "cell_type": "code",
   "execution_count": null,
   "metadata": {},
   "outputs": [],
   "source": []
  }
 ],
 "metadata": {
  "kernelspec": {
   "display_name": "pudem",
   "language": "python",
   "name": "python3"
  },
  "language_info": {
   "codemirror_mode": {
    "name": "ipython",
    "version": 3
   },
   "file_extension": ".py",
   "mimetype": "text/x-python",
   "name": "python",
   "nbconvert_exporter": "python",
   "pygments_lexer": "ipython3",
   "version": "3.11.9"
  }
 },
 "nbformat": 4,
 "nbformat_minor": 2
}
