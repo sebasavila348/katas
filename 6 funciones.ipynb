{
 "cells": [
  {
   "cell_type": "code",
   "execution_count": 7,
   "metadata": {},
   "outputs": [
    {
     "name": "stdout",
     "output_type": "stream",
     "text": [
      "25\n"
     ]
    }
   ],
   "source": [
    "def calcular_area(figura, *dimensiones):\n",
    "    \n",
    "    def area_circulo(radio):\n",
    "        return 3.14159 * radio ** 2\n",
    "\n",
    "    def area_rectangulo(base, altura):\n",
    "        return base * altura\n",
    "\n",
    "    def area_triangulo(base, altura):\n",
    "        return 0.5 * base * altura\n",
    "    \n",
    "    if figura == \"circulo\":\n",
    "        return area_circulo(*dimensiones)\n",
    "    elif figura == \"rectangulo\":\n",
    "        return area_rectangulo(*dimensiones)\n",
    "    elif figura == \"trinngulo\":\n",
    "        return area_triangulo(*dimensiones)\n",
    "    else:\n",
    "        return \"Figura no soportada\"\n",
    "\n",
    "print(calcular_area(\"rectangulo\", 5, 5))"
   ]
  },
  {
   "cell_type": "markdown",
   "metadata": {},
   "source": [
    "Ejercicio 2: Fibonacci Recursivo\n",
    "Define una función recursiva fibonacci que retorne el n-ésimo número de Fibonacci. Usa una función adicional para validar los argumentos de entrada."
   ]
  },
  {
   "cell_type": "code",
   "execution_count": 1,
   "metadata": {},
   "outputs": [
    {
     "name": "stdout",
     "output_type": "stream",
     "text": [
      "8\n"
     ]
    }
   ],
   "source": [
    "def validar_numero(n):\n",
    "    if n < 0:\n",
    "        raise ValueError(\"El número debe ser no negativo\")\n",
    "    return n\n",
    "\n",
    "def fibonacci(n):\n",
    "    n = validar_numero(n)\n",
    "    if n == 0:\n",
    "        return 0\n",
    "    elif n == 1:\n",
    "        return 1\n",
    "    else:\n",
    "        return fibonacci(n - 1) + fibonacci(n - 2)\n",
    "\n",
    "# Prueba la función\n",
    "print(fibonacci(6))"
   ]
  },
  {
   "cell_type": "markdown",
   "metadata": {},
   "source": [
    "Ejercicio 3: Suma de Números\n",
    "Define una función suma_numeros que tome un número indeterminado de argumentos y retorne su suma. Implementa una función adicional que convierta cualquier argumento de tipo cadena a entero antes de sumar."
   ]
  },
  {
   "cell_type": "code",
   "execution_count": 10,
   "metadata": {},
   "outputs": [
    {
     "data": {
      "text/plain": [
       "23"
      ]
     },
     "execution_count": 10,
     "metadata": {},
     "output_type": "execute_result"
    }
   ],
   "source": [
    "# Mi Solución\n",
    "\n",
    "def converter(n):\n",
    "    try:\n",
    "        return int(n)\n",
    "    except ValueError:\n",
    "        print(f\"No se puede convertir {n} a entero.\")\n",
    "        return 0\n",
    "   \n",
    "\n",
    "def suma_numeros(*args):\n",
    "    \n",
    "    suma = 0\n",
    "    for arg in args:\n",
    "        if isinstance(arg, str):\n",
    "\n",
    "            arg = converter(arg)\n",
    "\n",
    "        suma = suma + arg\n",
    "    \n",
    "    return suma\n",
    "\n",
    "suma_numeros(4, 4, 5 ,5, \"5\")"
   ]
  },
  {
   "cell_type": "code",
   "execution_count": 11,
   "metadata": {},
   "outputs": [
    {
     "name": "stdout",
     "output_type": "stream",
     "text": [
      "10\n"
     ]
    }
   ],
   "source": [
    "#Solución Chatgpt\n",
    "def convertir_a_entero(*args):\n",
    "    return [int(arg) for arg in args]\n",
    "\n",
    "def suma_numeros(*args):\n",
    "    numeros = convertir_a_entero(*args)\n",
    "    return sum(numeros)\n",
    "\n",
    "# Prueba la función\n",
    "print(suma_numeros(1, '2', 3, '4'))  # Debería imprimir 10"
   ]
  },
  {
   "cell_type": "markdown",
   "metadata": {},
   "source": [
    "Ejercicio 4: Lista Modificada\n",
    "Define una función modificar_lista que tome una lista y una función como parámetros. Aplica la función a cada elemento de la lista y retorna la lista modificada. Usa una función lambda para duplicar los valores de la lista."
   ]
  },
  {
   "cell_type": "code",
   "execution_count": null,
   "metadata": {},
   "outputs": [],
   "source": [
    "def get_formatted_name(first_name, last_name):\n",
    "    \"\"\"Return a full name, neatly formatted.\"\"\"\n",
    "    full_name = f\"{first_name} {last_name}\"\n",
    "    return full_name.title()\n",
    "    while True:\n",
    "        print(\"\\nPlease tell me your name:\")\n",
    "        print(\"(enter 'q' at any time to quit)\")\n",
    "        f_name = input(\"First name: \")\n",
    "        if f_name == 'q':\n",
    "            break\n",
    "        l_name = input(\"Last name: \")\n",
    "        if l_name == 'q':\n",
    "            break\n",
    "        formatted_name = get_formatted_name(f_name, l_name)\n",
    "        print(f\"\\nHello, {formatted_name}!\")\n"
   ]
  },
  {
   "cell_type": "markdown",
   "metadata": {},
   "source": [
    "Ejercicio 5: Información de Personas\n",
    "Define una función imprimir_informacion que tome un número indeterminado de argumentos de tipo diccionario que representen información de personas. La función debe imprimir el nombre y la edad de cada persona."
   ]
  },
  {
   "cell_type": "code",
   "execution_count": 4,
   "metadata": {},
   "outputs": [
    {
     "name": "stdout",
     "output_type": "stream",
     "text": [
      "Nombre: Juan, Edad: 30\n",
      "Nombre: Ana, Edad: 25\n"
     ]
    }
   ],
   "source": [
    "def imprimir_informacion(*kwargs):\n",
    "\n",
    "    for kwarg in kwargs:\n",
    "        print(f\"Nombre: {kwarg['nombre']}, Edad: {kwarg['edad']}\")\n",
    "\n",
    "imprimir_informacion({'nombre': 'Juan', 'edad': 30}, {'nombre': 'Ana', 'edad': 25})\n"
   ]
  },
  {
   "cell_type": "markdown",
   "metadata": {},
   "source": [
    "Ejercicio 1: Operaciones Matemáticas Complejas\n",
    "Define una función calcular que acepte una operación matemática (suma, resta, multiplicación, división) y un número indeterminado de argumentos. Usa funciones adicionales para cada operación y valida los argumentos antes de realizar la operación."
   ]
  },
  {
   "cell_type": "code",
   "execution_count": 6,
   "metadata": {},
   "outputs": [
    {
     "name": "stdout",
     "output_type": "stream",
     "text": [
      "7\n"
     ]
    }
   ],
   "source": [
    "def suma(a,b):\n",
    "    return a + b\n",
    "def resta(a,b):\n",
    "    return a - b\n",
    "def multiplicacion(a,b):\n",
    "    return a * b\n",
    "def division(a,b):\n",
    "    return a / b\n",
    "\n",
    "def calcular(operacion, *args):\n",
    "\n",
    "    if operacion == 'suma':\n",
    "        return suma(*args)\n",
    "    if operacion == 'resta':\n",
    "        return resta(*args)\n",
    "    if operacion == 'multiplicacion':\n",
    "        return multiplicacion(*args)\n",
    "    if operacion == 'division':\n",
    "        return division(*args)\n",
    "    \n",
    "print(calcular('suma',4,3))"
   ]
  },
  {
   "cell_type": "code",
   "execution_count": null,
   "metadata": {},
   "outputs": [],
   "source": [
    "texto = \"cule viaje cule viaje viaje\"\n",
    "\n",
    "def ana_tex(*args):\n",
    "    \n",
    "\n"
   ]
  },
  {
   "cell_type": "code",
   "execution_count": 9,
   "metadata": {},
   "outputs": [
    {
     "name": "stdout",
     "output_type": "stream",
     "text": [
      "['cule', 'viaje', 'cule', 'viaje', 'viaje']\n"
     ]
    },
    {
     "data": {
      "text/plain": [
       "5"
      ]
     },
     "execution_count": 9,
     "metadata": {},
     "output_type": "execute_result"
    }
   ],
   "source": [
    "texto = \"cule viaje cule viaje viaje\"\n",
    "l = texto.split()\n",
    "print(l)\n",
    "len(l)"
   ]
  },
  {
   "cell_type": "code",
   "execution_count": 8,
   "metadata": {},
   "outputs": [
    {
     "data": {
      "text/plain": [
       "5"
      ]
     },
     "execution_count": 8,
     "metadata": {},
     "output_type": "execute_result"
    }
   ],
   "source": []
  },
  {
   "cell_type": "code",
   "execution_count": null,
   "metadata": {},
   "outputs": [],
   "source": []
  }
 ],
 "metadata": {
  "kernelspec": {
   "display_name": "pudem",
   "language": "python",
   "name": "python3"
  },
  "language_info": {
   "codemirror_mode": {
    "name": "ipython",
    "version": 3
   },
   "file_extension": ".py",
   "mimetype": "text/x-python",
   "name": "python",
   "nbconvert_exporter": "python",
   "pygments_lexer": "ipython3",
   "version": "3.11.9"
  }
 },
 "nbformat": 4,
 "nbformat_minor": 2
}
